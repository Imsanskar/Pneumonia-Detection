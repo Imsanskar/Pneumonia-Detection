{
 "cells": [
  {
   "cell_type": "code",
   "execution_count": null,
   "metadata": {},
   "outputs": [],
   "source": [
    "import torch\n",
    "import torch.nn as nn \n",
    "import torch.nn.functional as F\n",
    "from torch.utils.data import DataLoader, SubsetRandomSampler\n",
    "from torchvision.datasets import ImageFolder\n",
    "from torchvision import transforms, utils\n",
    "import torchvision\n",
    "from PIL import Image\n",
    "import torchvision.transforms as transforms\n",
    "import matplotlib.pyplot as plt\n",
    "import numpy as np\n",
    "from sklearn.metrics import confusion_matrix\n",
    "import seaborn as sb\n",
    "import pandas as pd\n",
    "from models import VGGClassifier\n",
    "from utils import train"
   ]
  },
  {
   "cell_type": "markdown",
   "metadata": {},
   "source": [
    "### Dataloader"
   ]
  },
  {
   "cell_type": "code",
   "execution_count": null,
   "metadata": {},
   "outputs": [],
   "source": [
    "train_transform = transforms.Compose([\n",
    "    transforms.Resize((224, 224)),\n",
    "    transforms.RandomAffine(translate=(0.05,0.05), degrees=0),\n",
    "    transforms.RandomRotation(10),\n",
    "    transforms.ToTensor(),\n",
    "    transforms.Normalize(\n",
    "        mean=[0.485, 0.456, 0.406], \n",
    "        std=[0.229, 0.224, 0.225] ,inplace=True)\n",
    "])\n",
    "\n",
    "test_transform = transforms.Compose([\n",
    "    transforms.Resize((224, 224)),\n",
    "    transforms.ToTensor(),\n",
    "    transforms.Normalize(\n",
    "        mean=[0.485, 0.456, 0.406], \n",
    "        std=[0.229, 0.224, 0.225] ,inplace=True)\n",
    "])\n",
    "subset_ratio = 0.2\n",
    "orig_dataset = ImageFolder(root='./dataset/chest_xray/train/', transform = train_transform)\n",
    "n = len(orig_dataset)  # total number of examples\n",
    "print(f\"Total Dataset size: {n}\")\n",
    "\n",
    "indices = list(range(n))\n",
    "# randomly shuffle the indices\n",
    "np.random.shuffle(indices)\n",
    "\n",
    "# calculate the split index for the subset\n",
    "split = int(np.floor(subset_ratio * n))\n",
    "\n",
    "val_sampler = SubsetRandomSampler(indices[:split])\n",
    "train_sampler = SubsetRandomSampler(indices[split:])\n",
    "test_dataset = ImageFolder(root='./dataset/chest_xray/test/', transform = test_transform)\n",
    "\n",
    "train_dataloader = DataLoader(orig_dataset, batch_size = 16, sampler=train_sampler)\n",
    "val_dataloader = DataLoader(orig_dataset, batch_size = 8, sampler=val_sampler)\n",
    "test_dataloader = DataLoader(test_dataset, shuffle = True, batch_size = 1)"
   ]
  },
  {
   "cell_type": "markdown",
   "metadata": {},
   "source": [
    "### Model Training"
   ]
  },
  {
   "cell_type": "code",
   "execution_count": null,
   "metadata": {},
   "outputs": [],
   "source": [
    "model = VGGClassifier()\n",
    "loss_fn = nn.CrossEntropyLoss()\n",
    "device = \"cuda\" if torch.cuda.is_available() else \"cpu\"\n",
    "lr = 0.0001\n",
    "optim = torch.optim.SGD(model.parameters(), lr = lr, momentum=0.9, weight_decay=1e-3)\n",
    "model.to(device)\n",
    "print(device)"
   ]
  },
  {
   "cell_type": "code",
   "execution_count": null,
   "metadata": {},
   "outputs": [],
   "source": [
    "train_loss, val_f1, val_acc = train(model, optim, loss_fn, train_dataloader, val_dataloader, epochs=1, early_stop_threshold=4)"
   ]
  },
  {
   "cell_type": "code",
   "execution_count": null,
   "metadata": {},
   "outputs": [],
   "source": [
    "train_loss = train_loss\n",
    "val_f1 = val_f1\n",
    "\n",
    "plt.subplot(2, 1, 1)\n",
    "plt.xticks(range(len(train_loss)))\n",
    "plt.plot(train_loss)\n",
    "plt.xlabel(\"Training Steps\")\n",
    "plt.ylabel(\"Training Loss\")\n",
    "\n",
    "\n",
    "plt.subplot(2, 1, 2)\n",
    "plt.plot(val_f1)\n",
    "\n",
    "plt.xlabel(\"Training Steps\")\n",
    "plt.ylabel(\"Validation F1 Score\")\n",
    "plt.xticks(range(len(val_f1)))\n",
    "\n",
    "plt.tight_layout()\n",
    "plt.savefig(\"plot_conv_net.pdf\")\n",
    "plt.show()"
   ]
  }
 ],
 "metadata": {
  "kernelspec": {
   "display_name": "Python 3.10.10 ('env': venv)",
   "language": "python",
   "name": "python3"
  },
  "language_info": {
   "codemirror_mode": {
    "name": "ipython",
    "version": 3
   },
   "file_extension": ".py",
   "mimetype": "text/x-python",
   "name": "python",
   "nbconvert_exporter": "python",
   "pygments_lexer": "ipython3",
   "version": "3.10.10"
  },
  "orig_nbformat": 4,
  "vscode": {
   "interpreter": {
    "hash": "830d689a0fb977be779658ea24d172cac3a688ad2555a7f0a0274256a1ea9bef"
   }
  }
 },
 "nbformat": 4,
 "nbformat_minor": 2
}
